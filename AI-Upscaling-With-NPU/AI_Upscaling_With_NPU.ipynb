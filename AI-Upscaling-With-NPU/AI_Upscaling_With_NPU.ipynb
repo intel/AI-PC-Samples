{
 "cells": [
  {
   "cell_type": "markdown",
   "metadata": {},
   "source": [
    "# AI Upscaling with Intel® NPU"
   ]
  },
  {
   "cell_type": "markdown",
   "metadata": {},
   "source": [
    "## Background"
   ]
  },
  {
   "cell_type": "markdown",
   "metadata": {},
   "source": [
    "### Purpose\n",
    "\n",
    "In this code sample, we will leverage Intel® AI Boost Neural Processing Unit (NPU) to boost the performance of AI upscaling. We will use `OpenVINO` to upscale images and video using the `BSRGAN` model."
   ]
  },
  {
   "cell_type": "markdown",
   "metadata": {},
   "source": [
    "### What is AI Upscaling?"
   ]
  },
  {
   "cell_type": "markdown",
   "metadata": {},
   "source": [
    "**AI Upscaling** is a technique that uses machine learning models to *upscale images and videos from lower quality to higher quality*. AI upscaling is also referred to as \"Super-Resolution\". AI upscaling models are often trained on datasets to allow the model to learn specific features related to upscale. For example, many AI upscaling models are trained specifically on Anime images, while others are trained on realistic images, and these datasets allow the model to learn the specific features of the images it is upscaling. Many of these models are implementations of GANs (Generative Adversarial Networks) which are a type of deep learning model that is used to generate new data.\n",
    "\n",
    "AI upscaling is used in various applications such as video streaming, image editing, and gaming. For example, AI upscaling can be used to get high quality video if you have a low quality internet connection. AI upscaling can also be used to restore old photos and videos to look like new, which is especially applicable to old videos from the 1990s or 2000s. AI upscaling can also be used to improve the graphics of video games.\n",
    "\n",
    "References:\n",
    "1. [Open Model DB](https://openmodeldb.info/docs/faq)\n",
    "2. [ESRGAN](https://www.ecva.net/papers/eccv_2022/papers_ECCV/papers/136780563.pdf)"
   ]
  },
  {
   "cell_type": "markdown",
   "metadata": {},
   "source": [
    "## Imports"
   ]
  },
  {
   "cell_type": "markdown",
   "metadata": {},
   "source": [
    "Importing everything takes a couple of seconds. Let's start by importing `OpenVINO` and `nccf` for model compression"
   ]
  },
  {
   "cell_type": "markdown",
   "metadata": {},
   "source": [
    "We also created some utility functions to help us load the model,pre/post process the images, and more. Let's import it!"
   ]
  },
  {
   "cell_type": "code",
   "execution_count": null,
   "metadata": {
    "execution": {
     "iopub.execute_input": "2024-10-01T23:18:06.484823Z",
     "iopub.status.busy": "2024-10-01T23:18:06.483823Z",
     "iopub.status.idle": "2024-10-01T23:18:06.543270Z",
     "shell.execute_reply": "2024-10-01T23:18:06.543270Z"
    }
   },
   "outputs": [],
   "source": [
    "# Other imports\n",
    "import cv2\n",
    "import openvino as ov\n",
    "import plotly.graph_objects as go\n",
    "import plotly.io as pio\n",
    "import torch\n",
    "from IPython.display import HTML, display\n",
    "from nncf import CompressWeightsMode, compress_weights\n",
    "from plotly.subplots import make_subplots\n",
    "from torchinfo import summary\n",
    "from tqdm.notebook import tqdm"
   ]
  },
  {
   "cell_type": "code",
   "execution_count": null,
   "metadata": {
    "execution": {
     "iopub.execute_input": "2024-10-01T23:18:06.547282Z",
     "iopub.status.busy": "2024-10-01T23:18:06.547282Z",
     "iopub.status.idle": "2024-10-01T23:18:06.764942Z",
     "shell.execute_reply": "2024-10-01T23:18:06.763933Z"
    }
   },
   "outputs": [],
   "source": [
    "# Model imports\n",
    "from network_rrdbnet import RRDBNet\n",
    "from bsrgan_utils import load_model\n",
    "\n",
    "# Pre/Post processing imports\n",
    "from bsrgan_utils import imread_uint\n",
    "from sample_utils import preprocess, postprocess\n",
    "\n",
    "# Time imports\n",
    "from sample_utils import time_execution\n",
    "\n",
    "# Video imports\n",
    "from sample_utils import collect_all_frames, write_all_frames, resize_video\n",
    "\n",
    "# Misc imports\n",
    "from sample_utils import download_file"
   ]
  },
  {
   "cell_type": "code",
   "execution_count": 3,
   "metadata": {
    "execution": {
     "iopub.execute_input": "2024-10-01T23:18:06.769941Z",
     "iopub.status.busy": "2024-10-01T23:18:06.769941Z",
     "iopub.status.idle": "2024-10-01T23:18:06.900094Z",
     "shell.execute_reply": "2024-10-01T23:18:06.899083Z"
    }
   },
   "outputs": [],
   "source": [
    "# Tells Plotly to render plots in the notebook setting\n",
    "pio.renderers.default = \"notebook\""
   ]
  },
  {
   "cell_type": "markdown",
   "metadata": {},
   "source": [
    "## Define and load the model"
   ]
  },
  {
   "cell_type": "markdown",
   "metadata": {},
   "source": [
    "The AI Upscaling model we will be using for this code sample is the [BSRGAN](https://github.com/cszn/BSRGAN) model. For this sample, we will be using the 4x upscaling model."
   ]
  },
  {
   "cell_type": "code",
   "execution_count": 4,
   "metadata": {
    "execution": {
     "iopub.execute_input": "2024-10-01T23:18:06.905095Z",
     "iopub.status.busy": "2024-10-01T23:18:06.904095Z",
     "iopub.status.idle": "2024-10-01T23:18:06.909196Z",
     "shell.execute_reply": "2024-10-01T23:18:06.908184Z"
    }
   },
   "outputs": [],
   "source": [
    "scaling_factor = 4"
   ]
  },
  {
   "cell_type": "code",
   "execution_count": 5,
   "metadata": {
    "execution": {
     "iopub.execute_input": "2024-10-01T23:18:06.913194Z",
     "iopub.status.busy": "2024-10-01T23:18:06.913194Z",
     "iopub.status.idle": "2024-10-01T23:18:07.397381Z",
     "shell.execute_reply": "2024-10-01T23:18:07.397381Z"
    }
   },
   "outputs": [],
   "source": [
    "model = RRDBNet(\n",
    "    in_nc=3, out_nc=3, nf=64, nb=23, gc=32, sf=scaling_factor\n",
    ")  # sf is factor of scale, 4 for 4x\n",
    "cpu_model = model.to(\"cpu\")\n",
    "load_model(cpu_model, model_path=f\"./models/BSRGANx{scaling_factor}.safetensors\")"
   ]
  },
  {
   "cell_type": "code",
   "execution_count": null,
   "metadata": {
    "execution": {
     "iopub.execute_input": "2024-10-01T23:18:07.401390Z",
     "iopub.status.busy": "2024-10-01T23:18:07.400390Z",
     "iopub.status.idle": "2024-10-01T23:18:09.555377Z",
     "shell.execute_reply": "2024-10-01T23:18:09.555377Z"
    }
   },
   "outputs": [],
   "source": [
    "# Use torchinfo to get a summary of the model\n",
    "summary(model, input_size=(1, 3, 90, 160))"
   ]
  },
  {
   "cell_type": "markdown",
   "metadata": {},
   "source": [
    "## Running the Model"
   ]
  },
  {
   "cell_type": "markdown",
   "metadata": {},
   "source": [
    "### Downloading Test Image"
   ]
  },
  {
   "cell_type": "markdown",
   "metadata": {},
   "source": [
    "In these cells, we will load an image, preprocess it, and upscale it using the BSRGAN model. We scale down the size of the image to speed up the inference process."
   ]
  },
  {
   "cell_type": "code",
   "execution_count": null,
   "metadata": {},
   "outputs": [],
   "source": [
    "image_url = \"https://storage.openvinotoolkit.org/data/test_data/images/dog.jpg\"\n",
    "img_path = \"input.jpg\"\n",
    "download_file(image_url, img_path)"
   ]
  },
  {
   "cell_type": "code",
   "execution_count": 8,
   "metadata": {
    "execution": {
     "iopub.execute_input": "2024-10-01T23:19:44.146740Z",
     "iopub.status.busy": "2024-10-01T23:19:44.146740Z",
     "iopub.status.idle": "2024-10-01T23:19:44.151470Z",
     "shell.execute_reply": "2024-10-01T23:19:44.151470Z"
    }
   },
   "outputs": [],
   "source": [
    "img = imread_uint(img_path)\n",
    "img = cv2.resize(img, (img.shape[1] // 2, img.shape[0] // 2))\n",
    "width, height = img.shape[1], img.shape[0]\n",
    "tensor_img = preprocess(img)"
   ]
  },
  {
   "cell_type": "markdown",
   "metadata": {},
   "source": [
    "### Convert and compile the model for NPU"
   ]
  },
  {
   "cell_type": "markdown",
   "metadata": {},
   "source": [
    "Now that we have loaded the model, we need to make sure that the model runs on the NPU. To do this, we use OpenVINO to convert and compile the PyTorch model to an Intermediate Representation (IR) format that can run on the CPU, GPU, or NPU. We will use `ov.convert_model` and `core.compile_model` to convert and compile the model for the NPU. \n",
    "\n",
    "Currently, [the NPU only supports static shapes](https://docs.openvino.ai/2024/openvino-workflow/running-inference/inference-devices-and-modes/npu-device.html#limitations), so we need to specify the input shape of the model.\n",
    "\n",
    "<div class=\"alert alert-warning\">\n",
    "The following code cells will takes around 5 minutes to complete. Please be patient!\n",
    "</div>"
   ]
  },
  {
   "cell_type": "code",
   "execution_count": 9,
   "metadata": {
    "execution": {
     "iopub.execute_input": "2024-10-01T23:18:09.561384Z",
     "iopub.status.busy": "2024-10-01T23:18:09.560384Z",
     "iopub.status.idle": "2024-10-01T23:18:31.955188Z",
     "shell.execute_reply": "2024-10-01T23:18:31.954181Z"
    }
   },
   "outputs": [],
   "source": [
    "ov_model = ov.convert_model(\n",
    "    cpu_model,\n",
    "    input=[1, 3, width, height],\n",
    "    example_input=torch.randn(1, 3, width, height),\n",
    ")"
   ]
  },
  {
   "cell_type": "code",
   "execution_count": null,
   "metadata": {
    "execution": {
     "iopub.execute_input": "2024-10-01T23:18:31.962188Z",
     "iopub.status.busy": "2024-10-01T23:18:31.962188Z",
     "iopub.status.idle": "2024-10-01T23:18:32.585186Z",
     "shell.execute_reply": "2024-10-01T23:18:32.585186Z"
    }
   },
   "outputs": [],
   "source": [
    "compressed_model = compress_weights(ov_model, mode=CompressWeightsMode.INT4_SYM)"
   ]
  },
  {
   "cell_type": "code",
   "execution_count": 11,
   "metadata": {
    "execution": {
     "iopub.execute_input": "2024-10-01T23:18:32.600193Z",
     "iopub.status.busy": "2024-10-01T23:18:32.600193Z",
     "iopub.status.idle": "2024-10-01T23:19:44.126450Z",
     "shell.execute_reply": "2024-10-01T23:19:44.126450Z"
    }
   },
   "outputs": [],
   "source": [
    "core = ov.Core()\n",
    "compiled_model = core.compile_model(compressed_model, device_name=\"NPU\")"
   ]
  },
  {
   "cell_type": "code",
   "execution_count": 12,
   "metadata": {
    "execution": {
     "iopub.execute_input": "2024-10-01T23:19:44.132455Z",
     "iopub.status.busy": "2024-10-01T23:19:44.131456Z",
     "iopub.status.idle": "2024-10-01T23:19:44.135560Z",
     "shell.execute_reply": "2024-10-01T23:19:44.135560Z"
    }
   },
   "outputs": [],
   "source": [
    "input_layer = compiled_model.input(0)\n",
    "output_layer = compiled_model.output(0)"
   ]
  },
  {
   "cell_type": "code",
   "execution_count": 13,
   "metadata": {
    "execution": {
     "iopub.execute_input": "2024-10-01T23:19:44.154477Z",
     "iopub.status.busy": "2024-10-01T23:19:44.154477Z",
     "iopub.status.idle": "2024-10-01T23:19:44.365921Z",
     "shell.execute_reply": "2024-10-01T23:19:44.364909Z"
    }
   },
   "outputs": [],
   "source": [
    "# Run the NPU model\n",
    "npu_result = compiled_model([tensor_img])[output_layer]"
   ]
  },
  {
   "cell_type": "code",
   "execution_count": 14,
   "metadata": {
    "execution": {
     "iopub.execute_input": "2024-10-01T23:19:44.371921Z",
     "iopub.status.busy": "2024-10-01T23:19:44.370921Z",
     "iopub.status.idle": "2024-10-01T23:19:46.946190Z",
     "shell.execute_reply": "2024-10-01T23:19:46.945180Z"
    }
   },
   "outputs": [],
   "source": [
    "# Run the CPU model\n",
    "cpu_result = cpu_model(tensor_img)"
   ]
  },
  {
   "cell_type": "markdown",
   "metadata": {},
   "source": [
    "We see that the NPU is faster than the CPU.<br>\n",
    "Does this hold? Let's use the `time_execution` utility to run both of the models multiple times and see the difference in time."
   ]
  },
  {
   "cell_type": "code",
   "execution_count": null,
   "metadata": {
    "execution": {
     "iopub.execute_input": "2024-10-01T23:19:46.951191Z",
     "iopub.status.busy": "2024-10-01T23:19:46.951191Z",
     "iopub.status.idle": "2024-10-01T23:19:48.443871Z",
     "shell.execute_reply": "2024-10-01T23:19:48.442860Z"
    }
   },
   "outputs": [],
   "source": [
    "npu_execution_times, npu_mean, npu_std = time_execution(\n",
    "    lambda: compiled_model([tensor_img])[output_layer], number=1, repeat=10\n",
    ")"
   ]
  },
  {
   "cell_type": "code",
   "execution_count": null,
   "metadata": {
    "execution": {
     "iopub.execute_input": "2024-10-01T23:19:48.449882Z",
     "iopub.status.busy": "2024-10-01T23:19:48.447881Z",
     "iopub.status.idle": "2024-10-01T23:20:10.519745Z",
     "shell.execute_reply": "2024-10-01T23:20:10.519745Z"
    }
   },
   "outputs": [],
   "source": [
    "cpu_execution_times, cpu_mean, cpu_std = time_execution(\n",
    "    lambda: cpu_model(tensor_img), number=1, repeat=10\n",
    ")"
   ]
  },
  {
   "cell_type": "code",
   "execution_count": null,
   "metadata": {
    "execution": {
     "iopub.execute_input": "2024-10-01T23:20:10.523753Z",
     "iopub.status.busy": "2024-10-01T23:20:10.523753Z",
     "iopub.status.idle": "2024-10-01T23:20:10.645468Z",
     "shell.execute_reply": "2024-10-01T23:20:10.645468Z"
    }
   },
   "outputs": [],
   "source": [
    "# Use plotly to plot violin plot of the execution times\n",
    "fig = go.Figure()\n",
    "fig.add_trace(\n",
    "    go.Violin(\n",
    "        y=npu_execution_times, name=\"NPU\", box_visible=True, meanline_visible=True\n",
    "    )\n",
    ")\n",
    "fig.add_trace(\n",
    "    go.Violin(\n",
    "        y=cpu_execution_times, name=\"CPU\", box_visible=True, meanline_visible=True\n",
    "    )\n",
    ")\n",
    "\n",
    "fig.update_layout(title=\"Execution Times (lower is better)\", yaxis_title=\"Time (s)\")\n",
    "fig.show()"
   ]
  },
  {
   "cell_type": "code",
   "execution_count": null,
   "metadata": {
    "execution": {
     "iopub.execute_input": "2024-10-01T23:20:10.783943Z",
     "iopub.status.busy": "2024-10-01T23:20:10.783943Z",
     "iopub.status.idle": "2024-10-01T23:20:10.787161Z",
     "shell.execute_reply": "2024-10-01T23:20:10.787161Z"
    }
   },
   "outputs": [],
   "source": [
    "print(f\"The NPU is {cpu_mean / npu_mean:.2f}x faster than the CPU model\")"
   ]
  },
  {
   "cell_type": "markdown",
   "metadata": {},
   "source": [
    "## Visualizing the Result"
   ]
  },
  {
   "cell_type": "markdown",
   "metadata": {},
   "source": [
    "Now that we have run the model, we need to convert the tensor result back into a format that we can use to visualize the image. We have a utility function for this sourced from the [BSRGAN](https://github.com/cszn/BSRGAN) repo."
   ]
  },
  {
   "cell_type": "code",
   "execution_count": 19,
   "metadata": {
    "execution": {
     "iopub.execute_input": "2024-10-01T23:20:10.791169Z",
     "iopub.status.busy": "2024-10-01T23:20:10.791169Z",
     "iopub.status.idle": "2024-10-01T23:20:10.801426Z",
     "shell.execute_reply": "2024-10-01T23:20:10.801426Z"
    }
   },
   "outputs": [],
   "source": [
    "npu_output = postprocess(npu_result)\n",
    "cpu_output = postprocess(cpu_result)"
   ]
  },
  {
   "cell_type": "markdown",
   "metadata": {},
   "source": [
    "Let's visualize the original image, the CPU output, and the NPU output to see the difference!"
   ]
  },
  {
   "cell_type": "code",
   "execution_count": null,
   "metadata": {
    "execution": {
     "iopub.execute_input": "2024-10-01T23:20:10.805431Z",
     "iopub.status.busy": "2024-10-01T23:20:10.805431Z",
     "iopub.status.idle": "2024-10-01T23:20:11.188025Z",
     "shell.execute_reply": "2024-10-01T23:20:11.187020Z"
    }
   },
   "outputs": [],
   "source": [
    "fig = make_subplots(\n",
    "    rows=1, cols=3, subplot_titles=(\"Original Image\", \"CPU Output\", \"NPU Output\")\n",
    ")\n",
    "\n",
    "fig.add_trace(go.Image(z=img), row=1, col=1)\n",
    "fig.add_trace(go.Image(z=cpu_output), row=1, col=2)\n",
    "fig.add_trace(go.Image(z=npu_output), row=1, col=3)\n",
    "\n",
    "fig.update_layout(showlegend=False)\n",
    "fig.show()"
   ]
  },
  {
   "cell_type": "markdown",
   "metadata": {},
   "source": [
    "## AI Upscaling on a video"
   ]
  },
  {
   "cell_type": "markdown",
   "metadata": {},
   "source": [
    "Now that we have shown that we can use AI upscaling on an image, we can go above-and-beyond, and show how the NPU can be used to upscale an entire video! Let's download a test video and start upscaling it!"
   ]
  },
  {
   "cell_type": "code",
   "execution_count": 21,
   "metadata": {},
   "outputs": [],
   "source": [
    "input_video_url = \"https://storage.openvinotoolkit.org/repositories/openvino_notebooks/data/data/video/Coco%20Walking%20in%20Berkeley.mp4\"\n",
    "input_video = \"benchmark_video.mp4\"\n",
    "output_video = \"upscaled_video.mp4\""
   ]
  },
  {
   "cell_type": "code",
   "execution_count": null,
   "metadata": {},
   "outputs": [],
   "source": [
    "download_file(input_video_url, input_video)\n",
    "resize_video(input_video, scale=2)"
   ]
  },
  {
   "cell_type": "markdown",
   "metadata": {},
   "source": [
    "### Opening the video file and collecting frames"
   ]
  },
  {
   "cell_type": "code",
   "execution_count": null,
   "metadata": {},
   "outputs": [],
   "source": [
    "original_video = cv2.VideoCapture(input_video)\n",
    "original_frames = collect_all_frames(original_video)\n",
    "width, height = original_frames[0].shape[0], original_frames[0].shape[1]"
   ]
  },
  {
   "cell_type": "markdown",
   "metadata": {},
   "source": [
    "### Compile model for NPU for video"
   ]
  },
  {
   "cell_type": "markdown",
   "metadata": {},
   "source": [
    "Due to the limitation that the NPU can only accept static shapes, we need to specify the input shape of the model. We will use the `core.compile_model` function to compile the model for the NPU.\n",
    "\n",
    "<div class=\"alert alert-warning\">\n",
    "The following code cells will takes around 10 minutes to complete. Please be patient!\n",
    "</div>"
   ]
  },
  {
   "cell_type": "code",
   "execution_count": 24,
   "metadata": {},
   "outputs": [],
   "source": [
    "ov_model = ov.convert_model(\n",
    "    cpu_model,\n",
    "    input=[1, 3, width, height],\n",
    "    example_input=torch.randn(1, 3, width, height),\n",
    ")"
   ]
  },
  {
   "cell_type": "code",
   "execution_count": null,
   "metadata": {},
   "outputs": [],
   "source": [
    "compressed_model = compress_weights(ov_model, mode=CompressWeightsMode.INT4_SYM)"
   ]
  },
  {
   "cell_type": "code",
   "execution_count": 26,
   "metadata": {},
   "outputs": [],
   "source": [
    "core = ov.Core()\n",
    "compiled_model = core.compile_model(compressed_model, device_name=\"NPU\")"
   ]
  },
  {
   "cell_type": "code",
   "execution_count": 27,
   "metadata": {},
   "outputs": [],
   "source": [
    "input_layer = compiled_model.input(0)\n",
    "output_layer = compiled_model.output(0)"
   ]
  },
  {
   "cell_type": "markdown",
   "metadata": {},
   "source": [
    "### Running NPU model per frame"
   ]
  },
  {
   "cell_type": "markdown",
   "metadata": {},
   "source": [
    "Now that we have the video downloaded, we can load the video and AI upscale each frame.\n",
    "\n",
    "<div class=\"alert alert-warning\">\n",
    "The following code cells will takes around 5 minutes to complete. Please be patient!\n",
    "</div>"
   ]
  },
  {
   "cell_type": "code",
   "execution_count": 28,
   "metadata": {
    "execution": {
     "iopub.execute_input": "2024-10-01T23:20:11.872058Z",
     "iopub.status.busy": "2024-10-01T23:20:11.872058Z",
     "iopub.status.idle": "2024-10-01T23:20:11.875234Z",
     "shell.execute_reply": "2024-10-01T23:20:11.875234Z"
    }
   },
   "outputs": [],
   "source": [
    "def callback(infer_request, userdata):\n",
    "    res = infer_request.get_output_tensor(0).data[0]\n",
    "    frame = postprocess(res)\n",
    "\n",
    "    pbar, postprocessed_frames = userdata\n",
    "    pbar.update(1)\n",
    "    postprocessed_frames.append(frame)"
   ]
  },
  {
   "cell_type": "code",
   "execution_count": null,
   "metadata": {
    "execution": {
     "iopub.execute_input": "2024-10-01T23:20:11.878747Z",
     "iopub.status.busy": "2024-10-01T23:20:11.878747Z",
     "iopub.status.idle": "2024-10-01T23:28:01.993484Z",
     "shell.execute_reply": "2024-10-01T23:28:01.992473Z"
    }
   },
   "outputs": [],
   "source": [
    "infer_queue = ov.AsyncInferQueue(compiled_model)\n",
    "infer_queue.set_callback(callback)\n",
    "pbar = tqdm(total=len(original_frames), desc=\"Inferencing frames\")\n",
    "\n",
    "postprocessed_frames = []\n",
    "for frame in original_frames:\n",
    "    new_frame = preprocess(frame)\n",
    "    infer_queue.start_async(\n",
    "        inputs={input_layer.any_name: new_frame}, userdata=(pbar, postprocessed_frames)\n",
    "    )\n",
    "\n",
    "infer_queue.wait_all()"
   ]
  },
  {
   "cell_type": "code",
   "execution_count": 30,
   "metadata": {
    "execution": {
     "iopub.execute_input": "2024-10-01T23:28:02.006483Z",
     "iopub.status.busy": "2024-10-01T23:28:02.006483Z",
     "iopub.status.idle": "2024-10-01T23:28:02.449886Z",
     "shell.execute_reply": "2024-10-01T23:28:02.449886Z"
    }
   },
   "outputs": [],
   "source": [
    "# Create the output file having the same properties as the original video file\n",
    "frame_width = int(original_video.get(cv2.CAP_PROP_FRAME_WIDTH))\n",
    "frame_height = int(original_video.get(cv2.CAP_PROP_FRAME_HEIGHT))\n",
    "fps = original_video.get(cv2.CAP_PROP_FPS)\n",
    "upscaled_video = cv2.VideoWriter(\n",
    "    output_video,\n",
    "    cv2.VideoWriter_fourcc(*\"X264\"),\n",
    "    fps,\n",
    "    (frame_width * scaling_factor, frame_height * scaling_factor),\n",
    ")"
   ]
  },
  {
   "cell_type": "code",
   "execution_count": null,
   "metadata": {
    "execution": {
     "iopub.execute_input": "2024-10-01T23:28:02.453891Z",
     "iopub.status.busy": "2024-10-01T23:28:02.452890Z",
     "iopub.status.idle": "2024-10-01T23:28:07.577422Z",
     "shell.execute_reply": "2024-10-01T23:28:07.576413Z"
    }
   },
   "outputs": [],
   "source": [
    "write_all_frames(postprocessed_frames, upscaled_video)"
   ]
  },
  {
   "cell_type": "code",
   "execution_count": 32,
   "metadata": {
    "execution": {
     "iopub.execute_input": "2024-10-01T23:28:07.582930Z",
     "iopub.status.busy": "2024-10-01T23:28:07.581422Z",
     "iopub.status.idle": "2024-10-01T23:28:07.635044Z",
     "shell.execute_reply": "2024-10-01T23:28:07.635044Z"
    }
   },
   "outputs": [],
   "source": [
    "original_video.release()\n",
    "upscaled_video.release()"
   ]
  },
  {
   "cell_type": "markdown",
   "metadata": {},
   "source": [
    "### Visualize the upscaled video"
   ]
  },
  {
   "cell_type": "code",
   "execution_count": null,
   "metadata": {
    "execution": {
     "iopub.execute_input": "2024-10-01T23:28:07.642052Z",
     "iopub.status.busy": "2024-10-01T23:28:07.641052Z",
     "iopub.status.idle": "2024-10-01T23:28:07.648682Z",
     "shell.execute_reply": "2024-10-01T23:28:07.648682Z"
    }
   },
   "outputs": [],
   "source": [
    "html = f\"\"\"\n",
    "<div style=\"display: flex; justify-content: space-around;\">\n",
    "    <video width=\"25%\" controls autoplay muted>\n",
    "        <source src=\"{input_video}\" type=\"video/mp4\">\n",
    "    </video>\n",
    "    <video width=\"25%\" controls autoplay muted>\n",
    "        <source src=\"{output_video}\" type=\"video/mp4\">\n",
    "    </video>\n",
    "</div>\n",
    "\"\"\"\n",
    "\n",
    "display(HTML(html))"
   ]
  },
  {
   "cell_type": "markdown",
   "metadata": {},
   "source": [
    "## Why is this important?\n",
    "At the time of this sample's release, AI Upscaling Technology has targeted discrete GPUs and has limited support for built-in hardware. However, in this sample, we have showcased how Intel® NPUs can be used for the AI Upscaling Task. We hope that this sample will inspire and enable developers to leverage Intel® NPUs for AI Upscaling tasks. There are many projects that can benefit from this technology. If you are interested in applying the knowledge learned from this code sample to help open-source projects, you can consider doing the following:\n",
    "\n",
    "1. Contribute to [Real-ESRGAN](https://github.com/xinntao/Real-ESRGAN) by adding support for Intel® NPUs\n",
    "2. Contribute to [chaiNNer](https://github.com/chaiNNer-org/chaiNNer) by adding support for Intel® NPUs\n",
    "3. Contribute to projects like [VLC](https://www.videolan.org/contribute.html), [GIMP](https://gitlab.gnome.org/GNOME/gimp), and [OBS Studio](https://github.com/obsproject/obs-studio) providing support for AI Upscaling on Intel® NPUs.\n",
    "\n",
    "We hope that the Intel® AI PC democratizes AI Upscaling and makes it more accessible to developers and users worldwide."
   ]
  }
 ],
 "metadata": {
  "kernelspec": {
   "display_name": "default",
   "language": "python",
   "name": "python3"
  },
  "language_info": {
   "codemirror_mode": {
    "name": "ipython",
    "version": 3
   },
   "file_extension": ".py",
   "mimetype": "text/x-python",
   "name": "python",
   "nbconvert_exporter": "python",
   "pygments_lexer": "ipython3",
   "version": "3.12.6"
  },
  "widgets": {
   "application/vnd.jupyter.widget-state+json": {
    "state": {
     "0803b15c88f54320996af1508bf3b9ef": {
      "model_module": "@jupyter-widgets/base",
      "model_module_version": "2.0.0",
      "model_name": "LayoutModel",
      "state": {
       "_model_module": "@jupyter-widgets/base",
       "_model_module_version": "2.0.0",
       "_model_name": "LayoutModel",
       "_view_count": null,
       "_view_module": "@jupyter-widgets/base",
       "_view_module_version": "2.0.0",
       "_view_name": "LayoutView",
       "align_content": null,
       "align_items": null,
       "align_self": null,
       "border_bottom": null,
       "border_left": null,
       "border_right": null,
       "border_top": null,
       "bottom": null,
       "display": null,
       "flex": null,
       "flex_flow": null,
       "grid_area": null,
       "grid_auto_columns": null,
       "grid_auto_flow": null,
       "grid_auto_rows": null,
       "grid_column": null,
       "grid_gap": null,
       "grid_row": null,
       "grid_template_areas": null,
       "grid_template_columns": null,
       "grid_template_rows": null,
       "height": null,
       "justify_content": null,
       "justify_items": null,
       "left": null,
       "margin": null,
       "max_height": null,
       "max_width": null,
       "min_height": null,
       "min_width": null,
       "object_fit": null,
       "object_position": null,
       "order": null,
       "overflow": null,
       "padding": null,
       "right": null,
       "top": null,
       "visibility": null,
       "width": null
      }
     },
     "0ff9f94e81af43fcad9865c912b1281c": {
      "model_module": "@jupyter-widgets/base",
      "model_module_version": "2.0.0",
      "model_name": "LayoutModel",
      "state": {
       "_model_module": "@jupyter-widgets/base",
       "_model_module_version": "2.0.0",
       "_model_name": "LayoutModel",
       "_view_count": null,
       "_view_module": "@jupyter-widgets/base",
       "_view_module_version": "2.0.0",
       "_view_name": "LayoutView",
       "align_content": null,
       "align_items": null,
       "align_self": null,
       "border_bottom": null,
       "border_left": null,
       "border_right": null,
       "border_top": null,
       "bottom": null,
       "display": null,
       "flex": null,
       "flex_flow": null,
       "grid_area": null,
       "grid_auto_columns": null,
       "grid_auto_flow": null,
       "grid_auto_rows": null,
       "grid_column": null,
       "grid_gap": null,
       "grid_row": null,
       "grid_template_areas": null,
       "grid_template_columns": null,
       "grid_template_rows": null,
       "height": null,
       "justify_content": null,
       "justify_items": null,
       "left": null,
       "margin": null,
       "max_height": null,
       "max_width": null,
       "min_height": null,
       "min_width": null,
       "object_fit": null,
       "object_position": null,
       "order": null,
       "overflow": null,
       "padding": null,
       "right": null,
       "top": null,
       "visibility": null,
       "width": null
      }
     },
     "24e27395377e48d3a76e48a85e85f088": {
      "model_module": "@jupyter-widgets/output",
      "model_module_version": "1.0.0",
      "model_name": "OutputModel",
      "state": {
       "_dom_classes": [],
       "_model_module": "@jupyter-widgets/output",
       "_model_module_version": "1.0.0",
       "_model_name": "OutputModel",
       "_view_count": null,
       "_view_module": "@jupyter-widgets/output",
       "_view_module_version": "1.0.0",
       "_view_name": "OutputView",
       "layout": "IPY_MODEL_e55eb516689c4099bdb74eaf4ed931c5",
       "msg_id": "",
       "outputs": [
        {
         "data": {
          "text/html": "<pre style=\"white-space:pre;overflow-x:auto;line-height:normal;font-family:Menlo,'DejaVu Sans Mono',consolas,'Courier New',monospace\">Applying Weight Compression <span style=\"color: #729c1f; text-decoration-color: #729c1f\">━━━━━━━━━━━━━━━━━━━━━━━━━━━━━━━━━━━━━━━━━━━━━━━━━━━━━━━━━━━━━━</span> <span style=\"color: #800080; text-decoration-color: #800080\">100%</span> • <span style=\"color: #0068b5; text-decoration-color: #0068b5\">0:00:00</span> • <span style=\"color: #0068b5; text-decoration-color: #0068b5\">0:00:00</span>\n</pre>\n",
          "text/plain": "Applying Weight Compression \u001b[38;2;114;156;31m━━━━━━━━━━━━━━━━━━━━━━━━━━━━━━━━━━━━━━━━━━━━━━━━━━━━━━━━━━━━━━\u001b[0m \u001b[35m100%\u001b[0m • \u001b[38;2;0;104;181m0:00:00\u001b[0m • \u001b[38;2;0;104;181m0:00:00\u001b[0m\n"
         },
         "metadata": {},
         "output_type": "display_data"
        }
       ],
       "tabbable": null,
       "tooltip": null
      }
     },
     "320fa34c592c462594376059e3f6e6e6": {
      "model_module": "@jupyter-widgets/controls",
      "model_module_version": "2.0.0",
      "model_name": "FloatProgressModel",
      "state": {
       "_dom_classes": [],
       "_model_module": "@jupyter-widgets/controls",
       "_model_module_version": "2.0.0",
       "_model_name": "FloatProgressModel",
       "_view_count": null,
       "_view_module": "@jupyter-widgets/controls",
       "_view_module_version": "2.0.0",
       "_view_name": "ProgressView",
       "bar_style": "",
       "description": "",
       "description_allow_html": false,
       "layout": "IPY_MODEL_987d7a3fb9bd45aea0b5031b2559db5b",
       "max": 2746,
       "min": 0,
       "orientation": "horizontal",
       "style": "IPY_MODEL_49e8b7a9eed14cbabf023f6b3ce943d0",
       "tabbable": null,
       "tooltip": null,
       "value": 2746
      }
     },
     "34e9b371ead34ab79594023080b5ece4": {
      "model_module": "@jupyter-widgets/controls",
      "model_module_version": "2.0.0",
      "model_name": "HTMLModel",
      "state": {
       "_dom_classes": [],
       "_model_module": "@jupyter-widgets/controls",
       "_model_module_version": "2.0.0",
       "_model_name": "HTMLModel",
       "_view_count": null,
       "_view_module": "@jupyter-widgets/controls",
       "_view_module_version": "2.0.0",
       "_view_name": "HTMLView",
       "description": "",
       "description_allow_html": false,
       "layout": "IPY_MODEL_ba39cc05dbc2440fb60808bd26d0f99a",
       "placeholder": "​",
       "style": "IPY_MODEL_63463178f46444ba8d20e6d29097f7a1",
       "tabbable": null,
       "tooltip": null,
       "value": " 2746/2746 [00:05&lt;00:00, 515.02it/s]"
      }
     },
     "3967e4d42d3a45a6ac33d61e7af3c8ab": {
      "model_module": "@jupyter-widgets/base",
      "model_module_version": "2.0.0",
      "model_name": "LayoutModel",
      "state": {
       "_model_module": "@jupyter-widgets/base",
       "_model_module_version": "2.0.0",
       "_model_name": "LayoutModel",
       "_view_count": null,
       "_view_module": "@jupyter-widgets/base",
       "_view_module_version": "2.0.0",
       "_view_name": "LayoutView",
       "align_content": null,
       "align_items": null,
       "align_self": null,
       "border_bottom": null,
       "border_left": null,
       "border_right": null,
       "border_top": null,
       "bottom": null,
       "display": null,
       "flex": null,
       "flex_flow": null,
       "grid_area": null,
       "grid_auto_columns": null,
       "grid_auto_flow": null,
       "grid_auto_rows": null,
       "grid_column": null,
       "grid_gap": null,
       "grid_row": null,
       "grid_template_areas": null,
       "grid_template_columns": null,
       "grid_template_rows": null,
       "height": null,
       "justify_content": null,
       "justify_items": null,
       "left": null,
       "margin": null,
       "max_height": null,
       "max_width": null,
       "min_height": null,
       "min_width": null,
       "object_fit": null,
       "object_position": null,
       "order": null,
       "overflow": null,
       "padding": null,
       "right": null,
       "top": null,
       "visibility": null,
       "width": null
      }
     },
     "417bfdb7af0e42a8b3bb4485c45c2d0d": {
      "model_module": "@jupyter-widgets/controls",
      "model_module_version": "2.0.0",
      "model_name": "ProgressStyleModel",
      "state": {
       "_model_module": "@jupyter-widgets/controls",
       "_model_module_version": "2.0.0",
       "_model_name": "ProgressStyleModel",
       "_view_count": null,
       "_view_module": "@jupyter-widgets/base",
       "_view_module_version": "2.0.0",
       "_view_name": "StyleView",
       "bar_color": null,
       "description_width": ""
      }
     },
     "46de74085b8a4f24b31c9b0ce193c400": {
      "model_module": "@jupyter-widgets/controls",
      "model_module_version": "2.0.0",
      "model_name": "HTMLModel",
      "state": {
       "_dom_classes": [],
       "_model_module": "@jupyter-widgets/controls",
       "_model_module_version": "2.0.0",
       "_model_name": "HTMLModel",
       "_view_count": null,
       "_view_module": "@jupyter-widgets/controls",
       "_view_module_version": "2.0.0",
       "_view_name": "HTMLView",
       "description": "",
       "description_allow_html": false,
       "layout": "IPY_MODEL_615e10976adc43c3b6e896f72d3a1d1b",
       "placeholder": "​",
       "style": "IPY_MODEL_8af59240753d48c4a76afbb03db2b936",
       "tabbable": null,
       "tooltip": null,
       "value": "Inferencing frames: 100%"
      }
     },
     "49e8b7a9eed14cbabf023f6b3ce943d0": {
      "model_module": "@jupyter-widgets/controls",
      "model_module_version": "2.0.0",
      "model_name": "ProgressStyleModel",
      "state": {
       "_model_module": "@jupyter-widgets/controls",
       "_model_module_version": "2.0.0",
       "_model_name": "ProgressStyleModel",
       "_view_count": null,
       "_view_module": "@jupyter-widgets/base",
       "_view_module_version": "2.0.0",
       "_view_name": "StyleView",
       "bar_color": null,
       "description_width": ""
      }
     },
     "4ef1b1dc2df64b86b8f1b64c1461bcf0": {
      "model_module": "@jupyter-widgets/controls",
      "model_module_version": "2.0.0",
      "model_name": "HTMLStyleModel",
      "state": {
       "_model_module": "@jupyter-widgets/controls",
       "_model_module_version": "2.0.0",
       "_model_name": "HTMLStyleModel",
       "_view_count": null,
       "_view_module": "@jupyter-widgets/base",
       "_view_module_version": "2.0.0",
       "_view_name": "StyleView",
       "background": null,
       "description_width": "",
       "font_size": null,
       "text_color": null
      }
     },
     "615e10976adc43c3b6e896f72d3a1d1b": {
      "model_module": "@jupyter-widgets/base",
      "model_module_version": "2.0.0",
      "model_name": "LayoutModel",
      "state": {
       "_model_module": "@jupyter-widgets/base",
       "_model_module_version": "2.0.0",
       "_model_name": "LayoutModel",
       "_view_count": null,
       "_view_module": "@jupyter-widgets/base",
       "_view_module_version": "2.0.0",
       "_view_name": "LayoutView",
       "align_content": null,
       "align_items": null,
       "align_self": null,
       "border_bottom": null,
       "border_left": null,
       "border_right": null,
       "border_top": null,
       "bottom": null,
       "display": null,
       "flex": null,
       "flex_flow": null,
       "grid_area": null,
       "grid_auto_columns": null,
       "grid_auto_flow": null,
       "grid_auto_rows": null,
       "grid_column": null,
       "grid_gap": null,
       "grid_row": null,
       "grid_template_areas": null,
       "grid_template_columns": null,
       "grid_template_rows": null,
       "height": null,
       "justify_content": null,
       "justify_items": null,
       "left": null,
       "margin": null,
       "max_height": null,
       "max_width": null,
       "min_height": null,
       "min_width": null,
       "object_fit": null,
       "object_position": null,
       "order": null,
       "overflow": null,
       "padding": null,
       "right": null,
       "top": null,
       "visibility": null,
       "width": null
      }
     },
     "63463178f46444ba8d20e6d29097f7a1": {
      "model_module": "@jupyter-widgets/controls",
      "model_module_version": "2.0.0",
      "model_name": "HTMLStyleModel",
      "state": {
       "_model_module": "@jupyter-widgets/controls",
       "_model_module_version": "2.0.0",
       "_model_name": "HTMLStyleModel",
       "_view_count": null,
       "_view_module": "@jupyter-widgets/base",
       "_view_module_version": "2.0.0",
       "_view_name": "StyleView",
       "background": null,
       "description_width": "",
       "font_size": null,
       "text_color": null
      }
     },
     "787be84e74ae4a59a7f952b03a8b9535": {
      "model_module": "@jupyter-widgets/base",
      "model_module_version": "2.0.0",
      "model_name": "LayoutModel",
      "state": {
       "_model_module": "@jupyter-widgets/base",
       "_model_module_version": "2.0.0",
       "_model_name": "LayoutModel",
       "_view_count": null,
       "_view_module": "@jupyter-widgets/base",
       "_view_module_version": "2.0.0",
       "_view_name": "LayoutView",
       "align_content": null,
       "align_items": null,
       "align_self": null,
       "border_bottom": null,
       "border_left": null,
       "border_right": null,
       "border_top": null,
       "bottom": null,
       "display": null,
       "flex": null,
       "flex_flow": null,
       "grid_area": null,
       "grid_auto_columns": null,
       "grid_auto_flow": null,
       "grid_auto_rows": null,
       "grid_column": null,
       "grid_gap": null,
       "grid_row": null,
       "grid_template_areas": null,
       "grid_template_columns": null,
       "grid_template_rows": null,
       "height": null,
       "justify_content": null,
       "justify_items": null,
       "left": null,
       "margin": null,
       "max_height": null,
       "max_width": null,
       "min_height": null,
       "min_width": null,
       "object_fit": null,
       "object_position": null,
       "order": null,
       "overflow": null,
       "padding": null,
       "right": null,
       "top": null,
       "visibility": null,
       "width": null
      }
     },
     "8108a1be728c4654966bf46464b7d60d": {
      "model_module": "@jupyter-widgets/base",
      "model_module_version": "2.0.0",
      "model_name": "LayoutModel",
      "state": {
       "_model_module": "@jupyter-widgets/base",
       "_model_module_version": "2.0.0",
       "_model_name": "LayoutModel",
       "_view_count": null,
       "_view_module": "@jupyter-widgets/base",
       "_view_module_version": "2.0.0",
       "_view_name": "LayoutView",
       "align_content": null,
       "align_items": null,
       "align_self": null,
       "border_bottom": null,
       "border_left": null,
       "border_right": null,
       "border_top": null,
       "bottom": null,
       "display": null,
       "flex": null,
       "flex_flow": null,
       "grid_area": null,
       "grid_auto_columns": null,
       "grid_auto_flow": null,
       "grid_auto_rows": null,
       "grid_column": null,
       "grid_gap": null,
       "grid_row": null,
       "grid_template_areas": null,
       "grid_template_columns": null,
       "grid_template_rows": null,
       "height": null,
       "justify_content": null,
       "justify_items": null,
       "left": null,
       "margin": null,
       "max_height": null,
       "max_width": null,
       "min_height": null,
       "min_width": null,
       "object_fit": null,
       "object_position": null,
       "order": null,
       "overflow": null,
       "padding": null,
       "right": null,
       "top": null,
       "visibility": null,
       "width": null
      }
     },
     "825e1367f467431d98f8dbc14a81b95c": {
      "model_module": "@jupyter-widgets/base",
      "model_module_version": "2.0.0",
      "model_name": "LayoutModel",
      "state": {
       "_model_module": "@jupyter-widgets/base",
       "_model_module_version": "2.0.0",
       "_model_name": "LayoutModel",
       "_view_count": null,
       "_view_module": "@jupyter-widgets/base",
       "_view_module_version": "2.0.0",
       "_view_name": "LayoutView",
       "align_content": null,
       "align_items": null,
       "align_self": null,
       "border_bottom": null,
       "border_left": null,
       "border_right": null,
       "border_top": null,
       "bottom": null,
       "display": null,
       "flex": null,
       "flex_flow": null,
       "grid_area": null,
       "grid_auto_columns": null,
       "grid_auto_flow": null,
       "grid_auto_rows": null,
       "grid_column": null,
       "grid_gap": null,
       "grid_row": null,
       "grid_template_areas": null,
       "grid_template_columns": null,
       "grid_template_rows": null,
       "height": null,
       "justify_content": null,
       "justify_items": null,
       "left": null,
       "margin": null,
       "max_height": null,
       "max_width": null,
       "min_height": null,
       "min_width": null,
       "object_fit": null,
       "object_position": null,
       "order": null,
       "overflow": null,
       "padding": null,
       "right": null,
       "top": null,
       "visibility": null,
       "width": null
      }
     },
     "89856959ccfa424eb17d4065de84bf3e": {
      "model_module": "@jupyter-widgets/controls",
      "model_module_version": "2.0.0",
      "model_name": "ProgressStyleModel",
      "state": {
       "_model_module": "@jupyter-widgets/controls",
       "_model_module_version": "2.0.0",
       "_model_name": "ProgressStyleModel",
       "_view_count": null,
       "_view_module": "@jupyter-widgets/base",
       "_view_module_version": "2.0.0",
       "_view_name": "StyleView",
       "bar_color": null,
       "description_width": ""
      }
     },
     "8af59240753d48c4a76afbb03db2b936": {
      "model_module": "@jupyter-widgets/controls",
      "model_module_version": "2.0.0",
      "model_name": "HTMLStyleModel",
      "state": {
       "_model_module": "@jupyter-widgets/controls",
       "_model_module_version": "2.0.0",
       "_model_name": "HTMLStyleModel",
       "_view_count": null,
       "_view_module": "@jupyter-widgets/base",
       "_view_module_version": "2.0.0",
       "_view_name": "StyleView",
       "background": null,
       "description_width": "",
       "font_size": null,
       "text_color": null
      }
     },
     "8e92158f5f27435b87bee8835e34a88d": {
      "model_module": "@jupyter-widgets/controls",
      "model_module_version": "2.0.0",
      "model_name": "HTMLModel",
      "state": {
       "_dom_classes": [],
       "_model_module": "@jupyter-widgets/controls",
       "_model_module_version": "2.0.0",
       "_model_name": "HTMLModel",
       "_view_count": null,
       "_view_module": "@jupyter-widgets/controls",
       "_view_module_version": "2.0.0",
       "_view_name": "HTMLView",
       "description": "",
       "description_allow_html": false,
       "layout": "IPY_MODEL_825e1367f467431d98f8dbc14a81b95c",
       "placeholder": "​",
       "style": "IPY_MODEL_bad087b966f34699ba3ba6cbbff15118",
       "tabbable": null,
       "tooltip": null,
       "value": " 2746/2746 [07:50&lt;00:00,  5.27it/s]"
      }
     },
     "987d7a3fb9bd45aea0b5031b2559db5b": {
      "model_module": "@jupyter-widgets/base",
      "model_module_version": "2.0.0",
      "model_name": "LayoutModel",
      "state": {
       "_model_module": "@jupyter-widgets/base",
       "_model_module_version": "2.0.0",
       "_model_name": "LayoutModel",
       "_view_count": null,
       "_view_module": "@jupyter-widgets/base",
       "_view_module_version": "2.0.0",
       "_view_name": "LayoutView",
       "align_content": null,
       "align_items": null,
       "align_self": null,
       "border_bottom": null,
       "border_left": null,
       "border_right": null,
       "border_top": null,
       "bottom": null,
       "display": null,
       "flex": null,
       "flex_flow": null,
       "grid_area": null,
       "grid_auto_columns": null,
       "grid_auto_flow": null,
       "grid_auto_rows": null,
       "grid_column": null,
       "grid_gap": null,
       "grid_row": null,
       "grid_template_areas": null,
       "grid_template_columns": null,
       "grid_template_rows": null,
       "height": null,
       "justify_content": null,
       "justify_items": null,
       "left": null,
       "margin": null,
       "max_height": null,
       "max_width": null,
       "min_height": null,
       "min_width": null,
       "object_fit": null,
       "object_position": null,
       "order": null,
       "overflow": null,
       "padding": null,
       "right": null,
       "top": null,
       "visibility": null,
       "width": null
      }
     },
     "9a368a6e90ab464c80c46a73206cffe9": {
      "model_module": "@jupyter-widgets/base",
      "model_module_version": "2.0.0",
      "model_name": "LayoutModel",
      "state": {
       "_model_module": "@jupyter-widgets/base",
       "_model_module_version": "2.0.0",
       "_model_name": "LayoutModel",
       "_view_count": null,
       "_view_module": "@jupyter-widgets/base",
       "_view_module_version": "2.0.0",
       "_view_name": "LayoutView",
       "align_content": null,
       "align_items": null,
       "align_self": null,
       "border_bottom": null,
       "border_left": null,
       "border_right": null,
       "border_top": null,
       "bottom": null,
       "display": null,
       "flex": null,
       "flex_flow": null,
       "grid_area": null,
       "grid_auto_columns": null,
       "grid_auto_flow": null,
       "grid_auto_rows": null,
       "grid_column": null,
       "grid_gap": null,
       "grid_row": null,
       "grid_template_areas": null,
       "grid_template_columns": null,
       "grid_template_rows": null,
       "height": null,
       "justify_content": null,
       "justify_items": null,
       "left": null,
       "margin": null,
       "max_height": null,
       "max_width": null,
       "min_height": null,
       "min_width": null,
       "object_fit": null,
       "object_position": null,
       "order": null,
       "overflow": null,
       "padding": null,
       "right": null,
       "top": null,
       "visibility": null,
       "width": null
      }
     },
     "9fe75a299e0e44d4b413f9f80c685064": {
      "model_module": "@jupyter-widgets/controls",
      "model_module_version": "2.0.0",
      "model_name": "FloatProgressModel",
      "state": {
       "_dom_classes": [],
       "_model_module": "@jupyter-widgets/controls",
       "_model_module_version": "2.0.0",
       "_model_name": "FloatProgressModel",
       "_view_count": null,
       "_view_module": "@jupyter-widgets/controls",
       "_view_module_version": "2.0.0",
       "_view_name": "ProgressView",
       "bar_style": "success",
       "description": "",
       "description_allow_html": false,
       "layout": "IPY_MODEL_ccf8662acccf4f069e4fba767c34ba4d",
       "max": 2746,
       "min": 0,
       "orientation": "horizontal",
       "style": "IPY_MODEL_89856959ccfa424eb17d4065de84bf3e",
       "tabbable": null,
       "tooltip": null,
       "value": 2746
      }
     },
     "ac644c3bb6d544338bf8907d7e385938": {
      "model_module": "@jupyter-widgets/controls",
      "model_module_version": "2.0.0",
      "model_name": "HBoxModel",
      "state": {
       "_dom_classes": [],
       "_model_module": "@jupyter-widgets/controls",
       "_model_module_version": "2.0.0",
       "_model_name": "HBoxModel",
       "_view_count": null,
       "_view_module": "@jupyter-widgets/controls",
       "_view_module_version": "2.0.0",
       "_view_name": "HBoxView",
       "box_style": "",
       "children": [
        "IPY_MODEL_46de74085b8a4f24b31c9b0ce193c400",
        "IPY_MODEL_320fa34c592c462594376059e3f6e6e6",
        "IPY_MODEL_8e92158f5f27435b87bee8835e34a88d"
       ],
       "layout": "IPY_MODEL_3967e4d42d3a45a6ac33d61e7af3c8ab",
       "tabbable": null,
       "tooltip": null
      }
     },
     "b5c9cb4d5a514a4b83ceb56bd1c06d5a": {
      "model_module": "@jupyter-widgets/base",
      "model_module_version": "2.0.0",
      "model_name": "LayoutModel",
      "state": {
       "_model_module": "@jupyter-widgets/base",
       "_model_module_version": "2.0.0",
       "_model_name": "LayoutModel",
       "_view_count": null,
       "_view_module": "@jupyter-widgets/base",
       "_view_module_version": "2.0.0",
       "_view_name": "LayoutView",
       "align_content": null,
       "align_items": null,
       "align_self": null,
       "border_bottom": null,
       "border_left": null,
       "border_right": null,
       "border_top": null,
       "bottom": null,
       "display": null,
       "flex": null,
       "flex_flow": null,
       "grid_area": null,
       "grid_auto_columns": null,
       "grid_auto_flow": null,
       "grid_auto_rows": null,
       "grid_column": null,
       "grid_gap": null,
       "grid_row": null,
       "grid_template_areas": null,
       "grid_template_columns": null,
       "grid_template_rows": null,
       "height": null,
       "justify_content": null,
       "justify_items": null,
       "left": null,
       "margin": null,
       "max_height": null,
       "max_width": null,
       "min_height": null,
       "min_width": null,
       "object_fit": null,
       "object_position": null,
       "order": null,
       "overflow": null,
       "padding": null,
       "right": null,
       "top": null,
       "visibility": null,
       "width": null
      }
     },
     "ba39cc05dbc2440fb60808bd26d0f99a": {
      "model_module": "@jupyter-widgets/base",
      "model_module_version": "2.0.0",
      "model_name": "LayoutModel",
      "state": {
       "_model_module": "@jupyter-widgets/base",
       "_model_module_version": "2.0.0",
       "_model_name": "LayoutModel",
       "_view_count": null,
       "_view_module": "@jupyter-widgets/base",
       "_view_module_version": "2.0.0",
       "_view_name": "LayoutView",
       "align_content": null,
       "align_items": null,
       "align_self": null,
       "border_bottom": null,
       "border_left": null,
       "border_right": null,
       "border_top": null,
       "bottom": null,
       "display": null,
       "flex": null,
       "flex_flow": null,
       "grid_area": null,
       "grid_auto_columns": null,
       "grid_auto_flow": null,
       "grid_auto_rows": null,
       "grid_column": null,
       "grid_gap": null,
       "grid_row": null,
       "grid_template_areas": null,
       "grid_template_columns": null,
       "grid_template_rows": null,
       "height": null,
       "justify_content": null,
       "justify_items": null,
       "left": null,
       "margin": null,
       "max_height": null,
       "max_width": null,
       "min_height": null,
       "min_width": null,
       "object_fit": null,
       "object_position": null,
       "order": null,
       "overflow": null,
       "padding": null,
       "right": null,
       "top": null,
       "visibility": null,
       "width": null
      }
     },
     "bad087b966f34699ba3ba6cbbff15118": {
      "model_module": "@jupyter-widgets/controls",
      "model_module_version": "2.0.0",
      "model_name": "HTMLStyleModel",
      "state": {
       "_model_module": "@jupyter-widgets/controls",
       "_model_module_version": "2.0.0",
       "_model_name": "HTMLStyleModel",
       "_view_count": null,
       "_view_module": "@jupyter-widgets/base",
       "_view_module_version": "2.0.0",
       "_view_name": "StyleView",
       "background": null,
       "description_width": "",
       "font_size": null,
       "text_color": null
      }
     },
     "bffbf5da28ec4c05bed1084d364d2d96": {
      "model_module": "@jupyter-widgets/controls",
      "model_module_version": "2.0.0",
      "model_name": "HTMLModel",
      "state": {
       "_dom_classes": [],
       "_model_module": "@jupyter-widgets/controls",
       "_model_module_version": "2.0.0",
       "_model_name": "HTMLModel",
       "_view_count": null,
       "_view_module": "@jupyter-widgets/controls",
       "_view_module_version": "2.0.0",
       "_view_name": "HTMLView",
       "description": "",
       "description_allow_html": false,
       "layout": "IPY_MODEL_9a368a6e90ab464c80c46a73206cffe9",
       "placeholder": "​",
       "style": "IPY_MODEL_d999af54da5344a4b6391e653ab23d2b",
       "tabbable": null,
       "tooltip": null,
       "value": "Collecting frames from video: 100%"
      }
     },
     "cc0141594ee74a60a09d7718a301ce0b": {
      "model_module": "@jupyter-widgets/controls",
      "model_module_version": "2.0.0",
      "model_name": "HTMLModel",
      "state": {
       "_dom_classes": [],
       "_model_module": "@jupyter-widgets/controls",
       "_model_module_version": "2.0.0",
       "_model_name": "HTMLModel",
       "_view_count": null,
       "_view_module": "@jupyter-widgets/controls",
       "_view_module_version": "2.0.0",
       "_view_name": "HTMLView",
       "description": "",
       "description_allow_html": false,
       "layout": "IPY_MODEL_b5c9cb4d5a514a4b83ceb56bd1c06d5a",
       "placeholder": "​",
       "style": "IPY_MODEL_4ef1b1dc2df64b86b8f1b64c1461bcf0",
       "tabbable": null,
       "tooltip": null,
       "value": " 2746/2746 [00:20&lt;00:00, 5388.36it/s]"
      }
     },
     "ccf8662acccf4f069e4fba767c34ba4d": {
      "model_module": "@jupyter-widgets/base",
      "model_module_version": "2.0.0",
      "model_name": "LayoutModel",
      "state": {
       "_model_module": "@jupyter-widgets/base",
       "_model_module_version": "2.0.0",
       "_model_name": "LayoutModel",
       "_view_count": null,
       "_view_module": "@jupyter-widgets/base",
       "_view_module_version": "2.0.0",
       "_view_name": "LayoutView",
       "align_content": null,
       "align_items": null,
       "align_self": null,
       "border_bottom": null,
       "border_left": null,
       "border_right": null,
       "border_top": null,
       "bottom": null,
       "display": null,
       "flex": null,
       "flex_flow": null,
       "grid_area": null,
       "grid_auto_columns": null,
       "grid_auto_flow": null,
       "grid_auto_rows": null,
       "grid_column": null,
       "grid_gap": null,
       "grid_row": null,
       "grid_template_areas": null,
       "grid_template_columns": null,
       "grid_template_rows": null,
       "height": null,
       "justify_content": null,
       "justify_items": null,
       "left": null,
       "margin": null,
       "max_height": null,
       "max_width": null,
       "min_height": null,
       "min_width": null,
       "object_fit": null,
       "object_position": null,
       "order": null,
       "overflow": null,
       "padding": null,
       "right": null,
       "top": null,
       "visibility": null,
       "width": null
      }
     },
     "d2fbb801b75b46969dc626419d3929d3": {
      "model_module": "@jupyter-widgets/controls",
      "model_module_version": "2.0.0",
      "model_name": "FloatProgressModel",
      "state": {
       "_dom_classes": [],
       "_model_module": "@jupyter-widgets/controls",
       "_model_module_version": "2.0.0",
       "_model_name": "FloatProgressModel",
       "_view_count": null,
       "_view_module": "@jupyter-widgets/controls",
       "_view_module_version": "2.0.0",
       "_view_name": "ProgressView",
       "bar_style": "",
       "description": "",
       "description_allow_html": false,
       "layout": "IPY_MODEL_0ff9f94e81af43fcad9865c912b1281c",
       "max": 2746,
       "min": 0,
       "orientation": "horizontal",
       "style": "IPY_MODEL_417bfdb7af0e42a8b3bb4485c45c2d0d",
       "tabbable": null,
       "tooltip": null,
       "value": 2746
      }
     },
     "d999af54da5344a4b6391e653ab23d2b": {
      "model_module": "@jupyter-widgets/controls",
      "model_module_version": "2.0.0",
      "model_name": "HTMLStyleModel",
      "state": {
       "_model_module": "@jupyter-widgets/controls",
       "_model_module_version": "2.0.0",
       "_model_name": "HTMLStyleModel",
       "_view_count": null,
       "_view_module": "@jupyter-widgets/base",
       "_view_module_version": "2.0.0",
       "_view_name": "StyleView",
       "background": null,
       "description_width": "",
       "font_size": null,
       "text_color": null
      }
     },
     "e1e078e0d944440683d0a9a49892af48": {
      "model_module": "@jupyter-widgets/controls",
      "model_module_version": "2.0.0",
      "model_name": "HBoxModel",
      "state": {
       "_dom_classes": [],
       "_model_module": "@jupyter-widgets/controls",
       "_model_module_version": "2.0.0",
       "_model_name": "HBoxModel",
       "_view_count": null,
       "_view_module": "@jupyter-widgets/controls",
       "_view_module_version": "2.0.0",
       "_view_name": "HBoxView",
       "box_style": "",
       "children": [
        "IPY_MODEL_e965df2b59134e2dbdac346aa4e38b71",
        "IPY_MODEL_9fe75a299e0e44d4b413f9f80c685064",
        "IPY_MODEL_34e9b371ead34ab79594023080b5ece4"
       ],
       "layout": "IPY_MODEL_8108a1be728c4654966bf46464b7d60d",
       "tabbable": null,
       "tooltip": null
      }
     },
     "e49428a1a7014ea7936f1156817a066a": {
      "model_module": "@jupyter-widgets/controls",
      "model_module_version": "2.0.0",
      "model_name": "HTMLStyleModel",
      "state": {
       "_model_module": "@jupyter-widgets/controls",
       "_model_module_version": "2.0.0",
       "_model_name": "HTMLStyleModel",
       "_view_count": null,
       "_view_module": "@jupyter-widgets/base",
       "_view_module_version": "2.0.0",
       "_view_name": "StyleView",
       "background": null,
       "description_width": "",
       "font_size": null,
       "text_color": null
      }
     },
     "e55eb516689c4099bdb74eaf4ed931c5": {
      "model_module": "@jupyter-widgets/base",
      "model_module_version": "2.0.0",
      "model_name": "LayoutModel",
      "state": {
       "_model_module": "@jupyter-widgets/base",
       "_model_module_version": "2.0.0",
       "_model_name": "LayoutModel",
       "_view_count": null,
       "_view_module": "@jupyter-widgets/base",
       "_view_module_version": "2.0.0",
       "_view_name": "LayoutView",
       "align_content": null,
       "align_items": null,
       "align_self": null,
       "border_bottom": null,
       "border_left": null,
       "border_right": null,
       "border_top": null,
       "bottom": null,
       "display": null,
       "flex": null,
       "flex_flow": null,
       "grid_area": null,
       "grid_auto_columns": null,
       "grid_auto_flow": null,
       "grid_auto_rows": null,
       "grid_column": null,
       "grid_gap": null,
       "grid_row": null,
       "grid_template_areas": null,
       "grid_template_columns": null,
       "grid_template_rows": null,
       "height": null,
       "justify_content": null,
       "justify_items": null,
       "left": null,
       "margin": null,
       "max_height": null,
       "max_width": null,
       "min_height": null,
       "min_width": null,
       "object_fit": null,
       "object_position": null,
       "order": null,
       "overflow": null,
       "padding": null,
       "right": null,
       "top": null,
       "visibility": null,
       "width": null
      }
     },
     "e965df2b59134e2dbdac346aa4e38b71": {
      "model_module": "@jupyter-widgets/controls",
      "model_module_version": "2.0.0",
      "model_name": "HTMLModel",
      "state": {
       "_dom_classes": [],
       "_model_module": "@jupyter-widgets/controls",
       "_model_module_version": "2.0.0",
       "_model_name": "HTMLModel",
       "_view_count": null,
       "_view_module": "@jupyter-widgets/controls",
       "_view_module_version": "2.0.0",
       "_view_name": "HTMLView",
       "description": "",
       "description_allow_html": false,
       "layout": "IPY_MODEL_0803b15c88f54320996af1508bf3b9ef",
       "placeholder": "​",
       "style": "IPY_MODEL_e49428a1a7014ea7936f1156817a066a",
       "tabbable": null,
       "tooltip": null,
       "value": "Writing frames to output video: 100%"
      }
     },
     "f91eead9ee14445ca4ef962f64655dcc": {
      "model_module": "@jupyter-widgets/controls",
      "model_module_version": "2.0.0",
      "model_name": "HBoxModel",
      "state": {
       "_dom_classes": [],
       "_model_module": "@jupyter-widgets/controls",
       "_model_module_version": "2.0.0",
       "_model_name": "HBoxModel",
       "_view_count": null,
       "_view_module": "@jupyter-widgets/controls",
       "_view_module_version": "2.0.0",
       "_view_name": "HBoxView",
       "box_style": "",
       "children": [
        "IPY_MODEL_bffbf5da28ec4c05bed1084d364d2d96",
        "IPY_MODEL_d2fbb801b75b46969dc626419d3929d3",
        "IPY_MODEL_cc0141594ee74a60a09d7718a301ce0b"
       ],
       "layout": "IPY_MODEL_787be84e74ae4a59a7f952b03a8b9535",
       "tabbable": null,
       "tooltip": null
      }
     }
    },
    "version_major": 2,
    "version_minor": 0
   }
  }
 },
 "nbformat": 4,
 "nbformat_minor": 2
}
