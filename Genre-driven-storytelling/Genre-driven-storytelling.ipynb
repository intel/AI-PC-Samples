{
 "cells": [
  {
   "cell_type": "markdown",
   "id": "cf18a6fe-17e3-4a21-8bf7-7e77f2ec7e91",
   "metadata": {},
   "source": [
    "# Genre-Driven Storytelling from Images using PyTorch XPU backend\n",
    "## Overview\n",
    "This sample explores the generation of creative, genre-specific stories from images, specifically optimized for Intel hardware using the PyTorch XPU backend. \n",
    "\n",
    "## Workflow\n",
    "It takes an image and a user-defined genre (e.g., fantasy, horror, romance, sci-fi) as input and leverages a Vision Language Model (VLM) to craft engaging narratives that are visually inspired and thematically aligned with the chosen genre.\n",
    "\n",
    "<img width=\"600\" alt=\"image\" src=\"./assets/story-generation.png\">"
   ]
  },
  {
   "cell_type": "markdown",
   "id": "3f628be0-dcd7-4631-b9e5-ee2ff35fff92",
   "metadata": {},
   "source": [
    "## Import Necessary Packages"
   ]
  },
  {
   "cell_type": "code",
   "execution_count": 2,
   "id": "fb02b8bc-4c93-4f83-b576-994fb798662a",
   "metadata": {},
   "outputs": [],
   "source": [
    "from transformers import Qwen2_5_VLForConditionalGeneration, AutoTokenizer, AutoProcessor\n",
    "import torch\n",
    "import ipywidgets as widgets\n",
    "from IPython.display import display, Image as IPImage \n",
    "from PIL import Image as PILImage \n",
    "from qwen_vl_utils import process_vision_info\n",
    "import io\n",
    "import os"
   ]
  },
  {
   "cell_type": "code",
   "execution_count": 3,
   "id": "b3c36823-14d9-4cab-9d38-afb5209b7fa8",
   "metadata": {},
   "outputs": [
    {
     "data": {
      "application/vnd.jupyter.widget-view+json": {
       "model_id": "412343c0ba0948af881d80e98301163f",
       "version_major": 2,
       "version_minor": 0
      },
      "text/plain": [
       "VBox(children=(HTML(value='<center> <img\\nsrc=https://huggingface.co/front/assets/huggingface_logo-noborder.sv…"
      ]
     },
     "metadata": {},
     "output_type": "display_data"
    }
   ],
   "source": [
    "from huggingface_hub import login\n",
    "login()"
   ]
  },
  {
   "cell_type": "markdown",
   "id": "ead6b844-650f-45cd-be85-3777ca676ca9",
   "metadata": {},
   "source": [
    "## Story Generation Module\n",
    "\n",
    "Using Qwen VL Model, users could generate a creative genre-specific story with minimal prompt changes."
   ]
  },
  {
   "cell_type": "code",
   "execution_count": 5,
   "id": "f6e40b8f-d408-485c-af37-9ea173df9df1",
   "metadata": {
    "scrolled": true
   },
   "outputs": [],
   "source": [
    "def story_generation(image, genre):\n",
    "    \"\"\"\n",
    "        Generates a creative story using Qwen 2.5 VL 3B Instruct model\n",
    "        Args:\n",
    "            image(PIL image): User uploaded image\n",
    "            genre(str): User selected genre(eg. Fantasy, Horror, Sci-fi, etc.)\n",
    "        Returns: \n",
    "            story(str): Model generated story\n",
    "    \"\"\"\n",
    "    try:\n",
    "        model_id = \"Qwen/Qwen2.5-VL-3B-Instruct\"\n",
    "        model = Qwen2_5_VLForConditionalGeneration.from_pretrained(\n",
    "            model_id,\n",
    "            torch_dtype=torch.bfloat16,\n",
    "        )\n",
    "        model = model.to(\"xpu\")\n",
    "        model.eval()\n",
    "        compiled_model = torch.compile(model)\n",
    "        min_pixels = 256*28*28\n",
    "        max_pixels = 1280*28*28\n",
    "        processor = AutoProcessor.from_pretrained(model_id,\n",
    "                                                  use_fast=True,\n",
    "                                                  min_pixels=min_pixels, \n",
    "                                                  max_pixels=max_pixels)\n",
    "    \n",
    "        messages = [\n",
    "            {\n",
    "                \"role\": \"user\",\n",
    "                \"content\": [\n",
    "                    {\n",
    "                        \"type\": \"image\",\n",
    "                        \"image\": image,\n",
    "                    },\n",
    "                    {\n",
    "                        \"type\": \"text\",\n",
    "                        # \"text\": prompt,\n",
    "                        \"text\": f\"Generate a creative {genre} story inspired by this image. Focus on the characters (if any are visible, describe them briefly), the atmosphere of the scene, and the potential narrative that could unfold. Craft an engaging plot and ensure the story conveys a suitable moral.\"                    \n",
    "                    },\n",
    "                ],\n",
    "            }\n",
    "        ]\n",
    "        # Preparation for inference\n",
    "        text = processor.apply_chat_template(\n",
    "            messages, \n",
    "            tokenize=False, \n",
    "            add_generation_prompt=True\n",
    "        )\n",
    "        image_inputs, video_inputs = process_vision_info(messages)\n",
    "        inputs = processor(text=[text], \n",
    "                           images=[image], \n",
    "                           padding=True, \n",
    "                           return_tensors=\"pt\")\n",
    "        inputs = inputs.to(\"xpu\")\n",
    "    \n",
    "        torch.xpu.empty_cache()\n",
    "        # Generation of the output\n",
    "        with torch.no_grad():\n",
    "            generated_ids = compiled_model.generate(**inputs, \n",
    "                                           temperature=0.9,\n",
    "                                           top_p=0.99,\n",
    "                                           top_k=40,\n",
    "                                           do_sample=True,\n",
    "                                           max_new_tokens=1024)\n",
    "            generated_ids_trimmed = [\n",
    "                out_ids[len(in_ids) :] for in_ids, out_ids in zip(inputs.input_ids, generated_ids)\n",
    "            ]\n",
    "            output_text = processor.batch_decode(\n",
    "                generated_ids_trimmed, skip_special_tokens=True, clean_up_tokenization_spaces=False\n",
    "            )\n",
    "            torch.xpu.synchronize()\n",
    "        del model, processor, inputs, generated_ids, generated_ids_trimmed\n",
    "        return output_text[0]\n",
    "    except Exception as e:\n",
    "        print(\"Error generating story: \", e)"
   ]
  },
  {
   "cell_type": "markdown",
   "id": "9865e89b-12dd-4f5c-b75d-b32fa427d8f9",
   "metadata": {},
   "source": [
    "## User-provided inputs"
   ]
  },
  {
   "cell_type": "markdown",
   "id": "ae2081e7-7721-409c-91d7-950925156a9d",
   "metadata": {},
   "source": [
    "### Upload image\n",
    "\n",
    "Users could also use sample input images from [sample-inputs](./assets/sample-inputs) folder"
   ]
  },
  {
   "cell_type": "code",
   "execution_count": 6,
   "id": "2bfeced2-9cf9-4f5b-8cdd-5d3aae55625c",
   "metadata": {},
   "outputs": [
    {
     "name": "stdout",
     "output_type": "stream",
     "text": [
      "Please upload an image file (e.g., jpg, png, gif).\n",
      "If no image is uploaded, a default image will be attempted from: ./assets/sample-inputs/input1.jpg\n"
     ]
    },
    {
     "data": {
      "application/vnd.jupyter.widget-view+json": {
       "model_id": "51cf4fd7e6a245ac87ff445149af47f7",
       "version_major": 2,
       "version_minor": 0
      },
      "text/plain": [
       "FileUpload(value=(), accept='image/*', description='Upload')"
      ]
     },
     "metadata": {},
     "output_type": "display_data"
    },
    {
     "data": {
      "application/vnd.jupyter.widget-view+json": {
       "model_id": "5b1c73b49f374deca1ddfb47e9c79e03",
       "version_major": 2,
       "version_minor": 0
      },
      "text/plain": [
       "Output()"
      ]
     },
     "metadata": {},
     "output_type": "display_data"
    }
   ],
   "source": [
    "default_image_path = \"./assets/sample-inputs/input1.jpg\" \n",
    "\n",
    "image = None\n",
    "\n",
    "uploader = widgets.FileUpload(\n",
    "    accept='image/*', \n",
    "    multiple=False    \n",
    ")\n",
    "\n",
    "output_area = widgets.Output()\n",
    "\n",
    "def _load_and_store_pil_image(source_type, data, filename_for_error_msg=None):\n",
    "    \"\"\"\n",
    "    Loads image data into a PIL.Image object and stores it globally.\n",
    "    source_type: 'path' (data is a file path) or 'bytes' (data is image byte content).\n",
    "    Returns PIL.Image object on success, None on failure.\n",
    "    \"\"\"\n",
    "    global image\n",
    "    try:\n",
    "        if source_type == 'path':\n",
    "            pil_img = PILImage.open(data)\n",
    "        elif source_type == 'bytes':\n",
    "            pil_img = PILImage.open(io.BytesIO(data))\n",
    "        else: \n",
    "            image = None\n",
    "            return None \n",
    "        \n",
    "        image = pil_img\n",
    "        return pil_img\n",
    "    except Exception as e:\n",
    "        image = None\n",
    "        print(f\"Error loading image: {e}\")\n",
    "\n",
    "def display_default_image_handler():\n",
    "    \"\"\"Loads the default image as a PIL object, stores it, and displays it.\"\"\"\n",
    "    with output_area:\n",
    "        output_area.clear_output() \n",
    "        if not os.path.exists(default_image_path):\n",
    "            global image\n",
    "            image = None\n",
    "            print(f\"Default image not found: {default_image_path}. Please check the path.\")\n",
    "            return\n",
    "\n",
    "        pil_img = _load_and_store_pil_image('path', default_image_path)\n",
    "        if pil_img:\n",
    "            display(IPImage(filename=default_image_path))\n",
    "            print(f\"Displaying default image: {default_image_path}. Stored as PIL.\")\n",
    "        else:\n",
    "            print(f\"Error loading default PIL image from '{default_image_path}'.\")\n",
    "\n",
    "def on_upload_event_handler(change):\n",
    "    \"\"\"Handles file upload/clear, stores as PIL Image, and displays.\"\"\"\n",
    "    with output_area:\n",
    "        output_area.clear_output()\n",
    "\n",
    "        if not uploader.value: \n",
    "            print(\"No file uploaded. Displaying default image.\")\n",
    "            display_default_image_handler() \n",
    "            return\n",
    "\n",
    "        \n",
    "        uploaded_file_info = uploader.value[0]\n",
    "        file_content_bytes = uploaded_file_info['content']\n",
    "        file_name = uploaded_file_info['name']\n",
    "\n",
    "        pil_img = _load_and_store_pil_image('bytes', file_content_bytes, filename_for_error_msg=file_name)\n",
    "        if pil_img:\n",
    "            display(IPImage(data=file_content_bytes)) \n",
    "            print(f\"Displayed uploaded image: {file_name}. Stored as PIL.\")\n",
    "        else:\n",
    "            print(f\"Error processing uploaded image '{file_name}' into PIL format.\")\n",
    "\n",
    "uploader.observe(on_upload_event_handler, names='value')\n",
    "\n",
    "print(\"Please upload an image file (e.g., jpg, png, gif).\")\n",
    "print(f\"If no image is uploaded, a default image will be attempted from: {default_image_path}\")\n",
    "display(uploader)\n",
    "display(output_area)\n",
    "\n",
    "with output_area:\n",
    "    output_area.clear_output(wait=True) \n",
    "    display_default_image_handler() \n"
   ]
  },
  {
   "cell_type": "markdown",
   "id": "4b0bdf90-c5e6-4b8d-8b8c-38b713a4b3a1",
   "metadata": {},
   "source": [
    "### Select Genre for the story\n",
    "\n",
    "Specify the genre in which user would want the VL Model to generate the story."
   ]
  },
  {
   "cell_type": "code",
   "execution_count": 7,
   "id": "fffed399-458c-4a78-9fa3-2fd682bea682",
   "metadata": {},
   "outputs": [
    {
     "data": {
      "application/vnd.jupyter.widget-view+json": {
       "model_id": "6eecf7c03c1446c48de135f18ccbce1a",
       "version_major": 2,
       "version_minor": 0
      },
      "text/plain": [
       "RadioButtons(description='Genre', options=('Fantasy', 'Horror', 'Science Fiction', 'Thriller and Suspense', 'R…"
      ]
     },
     "metadata": {},
     "output_type": "display_data"
    }
   ],
   "source": [
    "# Top genres are listed using RadioButtons function from ipywidgets\n",
    "genre = widgets.RadioButtons(\n",
    "    options=['Fantasy', 'Horror', 'Science Fiction', 'Thriller and Suspense', 'Romance', 'Historical fiction'],\n",
    "    value='Fantasy', # Default'\n",
    "    description='Genre',\n",
    "    disabled=False\n",
    ")\n",
    "display(genre)"
   ]
  },
  {
   "cell_type": "code",
   "execution_count": 9,
   "id": "d5a01472-e0c5-40b3-85b1-8528ba1b5f80",
   "metadata": {},
   "outputs": [],
   "source": [
    "torch.xpu.empty_cache()"
   ]
  },
  {
   "cell_type": "markdown",
   "id": "df796997-6d5e-479d-8bbb-0f4fdd934363",
   "metadata": {},
   "source": [
    "## Story Generation\n",
    "\n",
    "This orchestrates the story generation by taking an image and a user-defined genre as input and then producing a narrative aligned with the chosen genre."
   ]
  },
  {
   "cell_type": "code",
   "execution_count": 10,
   "id": "ebedabc8-cbe7-4ea9-8f0c-6a2796c383da",
   "metadata": {},
   "outputs": [
    {
     "name": "stdout",
     "output_type": "stream",
     "text": [
      "Thriller and Suspense\n"
     ]
    },
    {
     "data": {
      "application/vnd.jupyter.widget-view+json": {
       "model_id": "de58b599011945bcb46c1c1e3a09d3c5",
       "version_major": 2,
       "version_minor": 0
      },
      "text/plain": [
       "Loading checkpoint shards:   0%|          | 0/2 [00:00<?, ?it/s]"
      ]
     },
     "metadata": {},
     "output_type": "display_data"
    },
    {
     "name": "stdout",
     "output_type": "stream",
     "text": [
      "The sun dipped low in the western sky, casting long shadows across the golden expanse of the Great Divide. Here and there, the hills and valleys were dotted with ancient oaks and sagebrush, their rusty hues blending into the landscape. In the foreground, a solitary white horse stood majestically, its coat gleaming under the fading light. The horse had eyes half-shut from the heat, ears pricked as it listened intently to the rustling grass and distant howls.\n",
      "\n",
      "Sitting atop his steed, a figure in a wide-brimmed hat and rugged jacket surveyed the scene with a serene yet watchful gaze. He was known as Jack, a man born of the west, whose life was dedicated to the land and the animals he loved so dearly. He wore gloves, suggesting readiness for the day's tasks ahead, but he was not alone in this vast, almost surreal wilderness.\n",
      "\n",
      "Standing just a few paces away from the horse was a dog, a sturdy, tan-furred collie with sharp, alert eyes. It sat regally in the tall, golden grass, its tail wagging as it watched the horse intently. The dog reminded Jack of the loyal companions who had always been part of his life, whether they were wild, untamed, or wildflowers.\n",
      "\n",
      "Jack’s breath came in ragged, warm gusts, as if the air itself had picked up speed. The scent of the earth mingled with the tang of sweat and the faint fragrance of his horse’s leather saddle. This was not just any day; something重大事情had changed everything. The world seemed tilted, a storm brewing in the distance, and with it, a sense of unease crept into the air.\n",
      "\n",
      "Suddenly, a shadow moved along the horizon, silhouetted against the twilight sky. It crept closer, growing larger, and revealed itself to be no other than a shadowy figure, cloaked in darkness. The figure paused briefly, then spoke in a voice that was part hiss, part sibilant whisper.\n",
      "\n",
      "\"Welcome to the old frontier, Mr. Rider.\"\n",
      "\n",
      "Jack’s heart raced, but his senses remained sharp. He stepped forward, his horse’s head slightly turned toward the newcomer. The shadow approached slowly, almost invitingly, its presence unnerving yet intriguing.\n",
      "\n",
      "\"Who are you?\" Jack asked, his voice calm despite the tension that lingered.\n",
      "\n",
      "\"It's me,\" the figure replied, a hint of humor veiling its tone. \"I have come not with evil, but to offer peace. For too long, we have been at odds, but perhaps we can find understanding.\"\n",
      "\n",
      "Jack tilted his head in contemplation, his mind racing through the implications of what the shadow might represent. Could it be that time had returned to the west, bringing with it secrets and power once thought lost to history?\n",
      "\n",
      "As night descended, casting the world in a cold, almost eerie light, Jack found himself faced with a decision. He knew that this was no ordinary encounter, that the old ways and the shadows that lurked within could bring either prosperity or danger to those caught in the crossfire between light and dark.\n",
      "\n",
      "But would he choose to let fear dictate his choices? Or would he confront the unknown, determined to forge a path where the future could begin anew, free from the shadows of the past and the promise of the untold stories yet to come? \n",
      "\n",
      "The horse stirred subtly, sensing the shift in the air, its ears perking as if listening to the wind’s whispers of the unknown. Jack sat still, his eyes fixed on the approaching mystery, ready to embrace whatever lay ahead, knowing that in doing so, he might just carve a legacy that would stand the test of time.\n"
     ]
    }
   ],
   "source": [
    "print(genre.value)\n",
    "story = story_generation(image, genre.value)\n",
    "print(story)"
   ]
  },
  {
   "cell_type": "markdown",
   "id": "9fb84096-58e5-44d8-906e-33f2ebbccdbb",
   "metadata": {},
   "source": [
    "## Sample Outputs"
   ]
  },
  {
   "cell_type": "markdown",
   "id": "974a44cb-5c26-485c-b500-b354618ef02d",
   "metadata": {},
   "source": [
    "### Fantasy Genre"
   ]
  },
  {
   "cell_type": "code",
   "execution_count": 11,
   "id": "0e692e23-667d-47e7-a337-454b5cf074ab",
   "metadata": {},
   "outputs": [
    {
     "name": "stdout",
     "output_type": "stream",
     "text": [
      "Fantasy\n"
     ]
    },
    {
     "data": {
      "application/vnd.jupyter.widget-view+json": {
       "model_id": "0d567139d7494110a68e0d395431a3b7",
       "version_major": 2,
       "version_minor": 0
      },
      "text/plain": [
       "Loading checkpoint shards:   0%|          | 0/2 [00:00<?, ?it/s]"
      ]
     },
     "metadata": {},
     "output_type": "display_data"
    },
    {
     "name": "stdout",
     "output_type": "stream",
     "text": [
      "---\n",
      "\n",
      "In the heart of the vast, golden plains, where the sky stretches as high as the earthen hills, lived a lone cowboy named Eli, who patrolled the land with his loyal white horse, Silver. Eli was no ordinary cowboy; he was the guardian of this untamed frontier, ensuring peace between the man and the wild.\n",
      "\n",
      "One crisp autumn morning, as the first rays of sunlight bathed the plains in a warm glow, Eli saddled up Silver and set out on his patrol. The horse, with its gleaming white coat and the soft green grass swaying beneath its hooves, felt the earth's warmth and responded with a quiet sigh.\n",
      "\n",
      "As Eli rode, his mind wandered to the past and the future he would face today. A month ago, he had stumbled upon an old, abandoned cabin hidden deep within the woods. Inside, he found not treasure, but a collection of enchanted maps and letters, each one promising a new adventure and a piece of the world’s mysteries.\n",
      "\n",
      "Determined to unravel the secrets these maps held, Eli left his home a few days later. Along the way, his journey led him through misty mountains, across serene rivers, and over sprawling valleys. Each day was a new adventure, filled with challenges and discoveries.\n",
      "\n",
      "In the valley below, a herd of wild horses bounded across the prairie. Eli’s heart leapt with excitement as he realized he could ride with them, learning from their freedom and their powerful instinct. Amongst the herd, a small brown dog, curious and energetic, wagged its tail in anticipation.\n",
      "\n",
      "The dog, named Rumi, had once been lost many miles away. Now, he roamed the forest edges, seeking food and companionship with the wildlife. His owner, an elderly herder, had found him and trained him to be part of a small herd. Rumi, unlike other dogs, seemed comfortable around horses, forming a strong bond with El’s horse.\n",
      "\n",
      "As Eli galloped through the valley, Rumi sat beside Silver, his eyes bright with excitement and curiosity. Their journey into the wild was not just about finding new knowledge or treasures. It was about understanding the true beauty of nature and respecting life, even in its most untamed form.\n",
      "\n",
      "Upon reaching the abandoned cabin, Eli carefully examined the maps and letters. Each page revealed clues that connected the world through ancient paths, leading to forgotten cultures and hidden treasures. As he解读each artifact, the sense of adventure grew stronger, fueling his determination to use these secrets for good.\n",
      "\n",
      "When Eli finally returned to his home, the town was abuzz with excitement. He had discovered a way to harness the power of nature’s elements, combining magic and technology to create a world where harmony and balance reigned. With the help of Rumi and Silver, he brought hope and a newfound sense of purpose to the town, transforming its lives.\n",
      "\n",
      "Eli knew that life would always present new challenges, but today, with their hearts set on a noble mission, he embraced the journey ahead. For in the end, it was not just about adventure, but the lessons learned and the love shared—lessons that bound his people to the very land they called home.\n",
      "\n",
      "---\n",
      "\n",
      "This story combines the elements of adventure, friendship, and self-discovery, capturing the essence of Eli’s journey in the vast landscape. The narrative highlights the importance of harmony with nature and the value of a loyal friend, offering a moral lesson about the power of understanding and the joy found in simple, beautiful connections.\n"
     ]
    }
   ],
   "source": [
    "print(genre.value)\n",
    "story = story_generation(image, genre.value)\n",
    "print(story)"
   ]
  },
  {
   "cell_type": "markdown",
   "id": "87c3dbf9-bf4b-49ae-8285-b8458c06a5bd",
   "metadata": {},
   "source": [
    "### Science Fiction"
   ]
  },
  {
   "cell_type": "code",
   "execution_count": 17,
   "id": "e5fbd20e-9d46-4375-bb49-e646b6771868",
   "metadata": {},
   "outputs": [
    {
     "name": "stdout",
     "output_type": "stream",
     "text": [
      "Science Fiction\n"
     ]
    },
    {
     "data": {
      "application/vnd.jupyter.widget-view+json": {
       "model_id": "e93af8ee52ed47a58658d649b2801011",
       "version_major": 2,
       "version_minor": 0
      },
      "text/plain": [
       "Loading checkpoint shards:   0%|          | 0/2 [00:00<?, ?it/s]"
      ]
     },
     "metadata": {},
     "output_type": "display_data"
    },
    {
     "name": "stdout",
     "output_type": "stream",
     "text": [
      "In the year 2150, the vast, untamed wilderness of the American West was once again reclaimed from the encroaching human settlements. The landscape was vast and stark, a testament to the enduring power of nature and the resilience of those who dared to live there.\n",
      "\n",
      "Eleanor, a seasoned livestock rancher, ventured deep into the wilderness with her white horse, Lightning. Her life on the range had been a journey fraught with challenges, but she had come to love the freedom and the sense of belonging it provided. Today, she carried a different burden—a mysterious letter that hinted at a treasure hidden deep within the forest's ancient trees. This treasure was rumored to possess mystical powers, capable of reversing environmental damage and restoring balance to the land. The letter also mentioned the presence of a legendary wolf, a creature of legend said to be wise beyond its years, whose eyes knew everything and could guide Eleanor to the treasure's location.\n",
      "\n",
      "As Lightning galloped across the undulating hills, the air was crisp and filled with the scent of wildflowers and damp soil. Eleanor glanced back at a curious, golden-hued wolf that seemed to follow them. Unlike any dog she had ever seen, the wolf walked on two legs, eyes shining with an otherworldly light that seemed to pierce through the surface of the earth. As she rode, Eleanor couldn't shake the feeling that this was more than just a dog; it was a sentient being, a guardian sent to aid her in her quest.\n",
      "\n",
      "The terrain grew increasingly rugged as they pressed on, the shadows lengthening and the sun dipping lower in the sky. Eleanor's heart pounded with both excitement and anxiety. She remembered a tale from her childhood—about how the wolf's eyes could predict the wind direction, which in turn affected the strength of the next storm. Was this the gift she needed to navigate the treacherous paths ahead?\n",
      "\n",
      "Suddenly, Lightning's movements slowed, and Eleanor realized something was amiss. A faint roar echoed through the air, growing louder with each step. Eleanor tightened her grip on the reins, praying for wisdom to confront whatever lay ahead. The landscape twisted and turned like a map, each bend revealing new challenges and discoveries. \n",
      "\n",
      "Finally, they emerged from a dense thicket of gnarled trees, and Eleanor gasped. In the center of the clearing stood a majestic tree, its trunk thick as a pillar and its roots sprawling like hands clutching at the ground. The leaves shimmered with an otherworldly glow, as if infused with magic. At the base of the tree, nestled between branches, was a chest made of polished silver, adorned with a single, glowing crystal at its center. The chest held a scroll bound in silver binding, inscribed with古老的 runes that seemed to pulsate with arcane energy.\n",
      "\n",
      "As Eleanor approached, the wolf sprang forward, its eyes fixed on the chest. It placed a paw on Eleanor’s shoulder, almost as if to guide or warn her. Eleanor felt a surge of intuition, a realization that this was no ordinary treasure. This was a vessel containing not just a key to its location, but a key to understanding the world it governed.\n",
      "\n",
      "With newfound purpose, Eleanor took the scroll from the wolf's paw. The runes burned brightly, and whispers of time and space filled the air. As she unrolled the scroll, an image of Earth's past emerged, showing the planet’s transformation from lush forests to barren wasteland. Ancient civilizations, now disappeared, had used magical techniques to alter the land, affecting ecosystems and climates across the globe. The wolf, once the wise keeper of these secrets, now served as a beacon, guiding humanity back to its origins and towards a future where harmony and balance were paramount.\n",
      "\n",
      "As she read, Eleanor understood the profound responsibility placed upon her. She vowed to use the knowledge at her disposal to reforest vast areas, restore habitats, and even reverse climate change. The adventure she once considered as the pursuit of wealth and status had blossomed into an act of redemption, a call to arms against the corruption of unchecked development.\n",
      "\n",
      "As the sun set on the rugged landscape, Eleanor mounted her white horse and turned to walk back towards civilization. The wolf, sensing her departure, wove silently around her, its eyes never leaving the chest on the tree. Eleanor whispered a blessing to the wolf and to herself, knowing that in the face of the impending doom that threatened the planet, the true heroes were those who sought to heal the earth, restore balance to the seasons, and respect the interconnectedness of all things. In the wilds of the future, the wolf's wisdom had become the ultimate weapon in the battle for life itself.\n"
     ]
    }
   ],
   "source": [
    "print(genre.value)\n",
    "story = story_generation(image, genre.value)\n",
    "print(story)"
   ]
  }
 ],
 "metadata": {
  "kernelspec": {
   "display_name": "Python 3 (ipykernel)",
   "language": "python",
   "name": "python3"
  },
  "language_info": {
   "codemirror_mode": {
    "name": "ipython",
    "version": 3
   },
   "file_extension": ".py",
   "mimetype": "text/x-python",
   "name": "python",
   "nbconvert_exporter": "python",
   "pygments_lexer": "ipython3",
   "version": "3.12.5"
  },
  "widgets": {
   "application/vnd.jupyter.widget-state+json": {
    "state": {},
    "version_major": 2,
    "version_minor": 0
   }
  }
 },
 "nbformat": 4,
 "nbformat_minor": 5
}
